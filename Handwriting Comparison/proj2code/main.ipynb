{
 "cells": [
  {
   "cell_type": "code",
   "execution_count": 95,
   "metadata": {},
   "outputs": [],
   "source": [
    "from sklearn.cluster import KMeans\n",
    "import numpy as np\n",
    "import csv\n",
    "import math\n",
    "import matplotlib.pyplot\n",
    "from matplotlib import pyplot as plt\n",
    "import pandas as pd"
   ]
  },
  {
   "cell_type": "code",
   "execution_count": 96,
   "metadata": {},
   "outputs": [],
   "source": [
    "maxAcc = 0.0\n",
    "maxIter = 0\n",
    "C_Lambda = 0.03\n",
    "TrainingPercent = 80\n",
    "ValidationPercent = 10\n",
    "TestPercent = 10\n",
    "M = 10\n",
    "PHI = []\n",
    "IsSynthetic = False"
   ]
  },
  {
   "cell_type": "code",
   "execution_count": 97,
   "metadata": {},
   "outputs": [],
   "source": [
    "SAME_PAIR_FILE=['HumanObserved-Dataset/HumanObserved-Dataset/HumanObserved-Features-Data/same_pairs.csv','GSC-Dataset(1)/GSC-Dataset/GSC-Features-Data/same_pairs.csv']\n",
    "DIFF_PAIR_FILE=['HumanObserved-Dataset/HumanObserved-Dataset/HumanObserved-Features-Data/diffn_pairs.csv','GSC-Dataset(1)/GSC-Dataset/GSC-Features-Data/diffn_pairs.csv']\n",
    "FEATURE_DATA_SET_FILE=['HumanObserved-Dataset/HumanObserved-Dataset/HumanObserved-Features-Data/HumanObserved-Features-Data.csv','GSC-Dataset(1)/GSC-Dataset/GSC-Features-Data/GSC-Features.csv']\n",
    "COL_NUM=[9,512]\n",
    "SAMPLE_SIZE=[761,5000]\n",
    "DATASET_TYPE={\n",
    "    \"HUMAN\":1,\n",
    "    \"GSC\":2\n",
    "}\n",
    "OPERATION_TYPE={\n",
    "    \"CONCAT\":1,\n",
    "    \"SUBTRACT\":2\n",
    "}"
   ]
  },
  {
   "cell_type": "code",
   "execution_count": 98,
   "metadata": {},
   "outputs": [],
   "source": [
    "def GenerateColMapper(lim):\n",
    "    col={}\n",
    "    col['img_id']='img_id'\n",
    "    for i in range(1,lim+1):\n",
    "        col['f'+str(i)]='f'+str(i+lim)\n",
    "    return col\n",
    "\n",
    "def MergeDatasets(df1,df2,col_val):\n",
    "    res_df = pd.merge(df1,df2,left_on='img_id_A', right_on='img_id', how='inner')\n",
    "    res_df.drop(['img_id'],axis=1, inplace= True)\n",
    "    col = GenerateColMapper(col_val)\n",
    "    df2=df2.rename(columns=col)\n",
    "    res_df = pd.merge(res_df,df2,left_on='img_id_B',right_on='img_id', how='inner')\n",
    "    res_df.drop(['img_id'],axis=1, inplace= True)\n",
    "    return res_df\n",
    "\n",
    "def SubtractDatasets(pairs_df,feature_df):\n",
    "    target_dff=pairs_df['target']\n",
    "    print(\"target_df.shape\",target_dff.shape)\n",
    "    df1 = pd.merge(pairs_df,feature_df,left_on='img_id_A', right_on='img_id', how='inner')\n",
    "    df1.drop(['img_id','img_id_A','img_id_B','target'],axis=1, inplace= True)\n",
    "    df2 = pd.merge(pairs_df,feature_df,left_on='img_id_B',right_on='img_id', how='inner')\n",
    "    df2.drop(['img_id','img_id_A','img_id_B','target'],axis=1, inplace= True)\n",
    "    res_df = df1-df2\n",
    "    res2_df=pd.concat([res_df,target_dff],axis=1)\n",
    "    return res2_df"
   ]
  },
  {
   "cell_type": "code",
   "execution_count": 99,
   "metadata": {},
   "outputs": [
    {
     "name": "stdout",
     "output_type": "stream",
     "text": [
      "target_df.shape (5000,)\n",
      "target_df.shape (5000,)\n"
     ]
    }
   ],
   "source": [
    "def PrepareDataSet(dataset_type,op_type):\n",
    "    same_pairs_df = pd.read_csv(SAME_PAIR_FILE[dataset_type-1]).sample(SAMPLE_SIZE[dataset_type-1], replace=False).reset_index(drop=True)\n",
    "    diff_pairs_df = pd.read_csv(DIFF_PAIR_FILE[dataset_type-1]).sample(SAMPLE_SIZE[dataset_type-1], replace=False).reset_index(drop=True)\n",
    "    feature_data_df = pd.read_csv(FEATURE_DATA_SET_FILE[dataset_type-1])\n",
    "    if(op_type==1): \n",
    "        final_df = MergeDatasets(same_pairs_df,feature_data_df,COL_NUM[dataset_type-1])\n",
    "        final_df=final_df.append(MergeDatasets(diff_pairs_df,feature_data_df,COL_NUM[dataset_type-1]))\n",
    "        target_df=final_df['target']\n",
    "        final_df.drop(['img_id_A','img_id_B','target'],axis=1, inplace= True)\n",
    "        final_df=pd.concat([final_df,target_df],axis=1)\n",
    "    elif(op_type==2):\n",
    "        dff1=SubtractDatasets(same_pairs_df,feature_data_df)\n",
    "        dff2=SubtractDatasets(diff_pairs_df,feature_data_df)\n",
    "        final_df = dff1.append(dff2)\n",
    "    final_df = final_df.sample(frac=1).reset_index(drop=True)\n",
    "    return final_df\n",
    "\n",
    "res_data_df = PrepareDataSet(DATASET_TYPE['GSC'],OPERATION_TYPE['SUBTRACT'])"
   ]
  },
  {
   "cell_type": "code",
   "execution_count": 100,
   "metadata": {},
   "outputs": [],
   "source": [
    "# Returns first TrainingPercent% data of the target output list which is used to train the model\n",
    "def GenerateTrainingTarget(rawTraining,TrainingPercent = 80):\n",
    "    TrainingLen = int(math.ceil(len(rawTraining)*(TrainingPercent*0.01)))\n",
    "    t           = rawTraining[:TrainingLen]\n",
    "    #print(str(TrainingPercent) + \"% Training Target Generated..\")\n",
    "    return t\n",
    "\n",
    "# Returns first TrainingPercent% data of the input vectors list which is used to to train the model\n",
    "def GenerateTrainingDataMatrix(rawData, TrainingPercent = 80):\n",
    "    T_len = int(math.ceil(len(rawData[0])*0.01*TrainingPercent))\n",
    "    d2 = rawData[:,0:T_len]\n",
    "    #print(str(TrainingPercent) + \"% Training Data Generated..\")\n",
    "    return d2\n",
    "\n",
    "#Returns first ValPercent% data of the target output list which is used as validation data\n",
    "def GenerateValData(rawData, ValPercent, TrainingCount): \n",
    "    valSize = int(math.ceil(len(rawData[0])*ValPercent*0.01))\n",
    "    V_End = TrainingCount + valSize\n",
    "    dataMatrix = rawData[:,TrainingCount+1:V_End]\n",
    "    #print (str(ValPercent) + \"% Val Data Generated..\")  \n",
    "    return dataMatrix\n",
    "\n",
    "#Returns first ValPercent% data of the target output list which is used as validation data\n",
    "def GenerateValTargetVector(rawData, ValPercent, TrainingCount): \n",
    "    valSize = int(math.ceil(len(rawData)*ValPercent*0.01))\n",
    "    V_End = TrainingCount + valSize\n",
    "    t =rawData[TrainingCount+1:V_End]\n",
    "    #print (str(ValPercent) + \"% Val Target Data Generated..\")\n",
    "    return t\n",
    "\n",
    "# Returns the BigSigma (or covariance) Matrix used for evaluating phi matrix (basis functions)\n",
    "def GenerateBigSigma(Data, MuMatrix,TrainingPercent,IsSynthetic):\n",
    "    BigSigma    = np.zeros((len(Data),len(Data)))\n",
    "    DataT       = np.transpose(Data)\n",
    "    TrainingLen = math.ceil(len(DataT)*(TrainingPercent*0.01))        \n",
    "    varVect     = []\n",
    "    for i in range(0,len(DataT[0])):\n",
    "        vct = []\n",
    "        for j in range(0,int(TrainingLen)):\n",
    "            vct.append(Data[i][j])    \n",
    "        varVect.append(np.var(vct))\n",
    "    \n",
    "    for j in range(len(Data)):\n",
    "        BigSigma[j][j] = varVect[j]\n",
    "    if IsSynthetic == True:\n",
    "        BigSigma = np.dot(3,BigSigma)\n",
    "    else:\n",
    "        BigSigma = np.dot(200,BigSigma)\n",
    "    print(DataT.shape)\n",
    "    ##print (\"BigSigma Generated..\")\n",
    "    return BigSigma\n",
    "\n",
    "# Returns the exponent of the Euler number for calculating the basis  function matrix\n",
    "def GetScalar(DataRow,MuRow, BigSigInv):  \n",
    "    R = np.subtract(DataRow,MuRow)\n",
    "    T = np.dot(BigSigInv,np.transpose(R))  \n",
    "    L = np.dot(R,T)\n",
    "    return L\n",
    "\n",
    "# Returns the Rth row and Cth column value of the PHI Matrix\n",
    "def GetRadialBasisOut(DataRow,MuRow, BigSigInv):    \n",
    "    phi_x = math.exp(-0.5*GetScalar(DataRow,MuRow,BigSigInv))\n",
    "    return phi_x\n",
    "\n",
    "# Returns the complete Phi Matrix (Numpy Array)\n",
    "def GetPhiMatrix(Data, MuMatrix, BigSigma, TrainingPercent = 80):\n",
    "    DataT = np.transpose(Data)\n",
    "    TrainingLen = math.ceil(len(DataT)*(TrainingPercent*0.01))         \n",
    "    PHI = np.zeros((int(TrainingLen),len(MuMatrix))) \n",
    "    BigSigInv = np.linalg.pinv(BigSigma) # Computes inverse of the BigSigma matrix\n",
    "    for  C in range(0,len(MuMatrix)):\n",
    "        for R in range(0,int(TrainingLen)):\n",
    "            PHI[R][C] = GetRadialBasisOut(DataT[R], MuMatrix[C], BigSigInv)\n",
    "    #print (\"PHI Generated..\")\n",
    "    return PHI\n",
    "\n",
    "# Computes and returns weights matrix for Closed-form solution from PHI(basis function matrix), T(Target output variable) and Lambda (Regularization parameter)\n",
    "def GetWeightsClosedForm(PHI, T, Lambda):\n",
    "    print(\"PHI shape\",PHI.shape)\n",
    "    print(\"T shape\",T.shape)\n",
    "    #print(Lambda.shape)\n",
    "    Lambda_I = np.identity(len(PHI[0]))\n",
    "    for i in range(0,len(PHI[0])):\n",
    "        Lambda_I[i][i] = Lambda\n",
    "    PHI_T       = np.transpose(PHI)\n",
    "    PHI_SQR     = np.dot(PHI_T,PHI)\n",
    "    PHI_SQR_LI  = np.add(Lambda_I,PHI_SQR)\n",
    "    PHI_SQR_INV = np.linalg.inv(PHI_SQR_LI)\n",
    "    INTER       = np.dot(PHI_SQR_INV, PHI_T)\n",
    "    W           = np.dot(INTER, T)\n",
    "    ##print (\"Training Weights Generated..\")\n",
    "    return W\n",
    "\n",
    "# Computes and returns the predicted variable from Design Matrix PHI and Weight matrix W\n",
    "def GetValTest(VAL_PHI,W):\n",
    "    Y = np.dot(W,np.transpose(VAL_PHI))\n",
    "    ##print (\"Test Out Generated..\")\n",
    "    return Y\n",
    "\n",
    "# Computes and returns Root Mean square error from the predicted output matrix and the actual output matrix\n",
    "def GetErms(VAL_TEST_OUT,ValDataAct):\n",
    "    sum = 0.0\n",
    "    t=0\n",
    "    accuracy = 0.0\n",
    "    counter = 0\n",
    "    val = 0.0\n",
    "    for i in range (0,len(VAL_TEST_OUT)):\n",
    "        sum = sum + math.pow((ValDataAct[i] - VAL_TEST_OUT[i]),2)\n",
    "        if(int(np.around(VAL_TEST_OUT[i], 0)) == ValDataAct[i]):\n",
    "            counter+=1\n",
    "    accuracy = (float((counter*100))/float(len(VAL_TEST_OUT)))\n",
    "    ##print (\"Accuracy Generated..\")\n",
    "    ##print (\"Validation E_RMS : \" + str(math.sqrt(sum/len(VAL_TEST_OUT))))\n",
    "    return (str(accuracy) + ',' +  str(math.sqrt(sum/len(VAL_TEST_OUT))))"
   ]
  },
  {
   "cell_type": "markdown",
   "metadata": {},
   "source": [
    "## Fetch and Prepare Dataset"
   ]
  },
  {
   "cell_type": "code",
   "execution_count": 101,
   "metadata": {
    "scrolled": true
   },
   "outputs": [
    {
     "name": "stdout",
     "output_type": "stream",
     "text": [
      "[[ 0  1  1 ...  0  0  0]\n",
      " [ 0  0  0 ...  0  0  0]\n",
      " [ 0  0  1 ...  0  0  0]\n",
      " ...\n",
      " [ 1 -1 -1 ...  0  0  0]\n",
      " [-1  0  0 ...  0  0  0]\n",
      " [ 0  0  0 ...  0  0  0]]\n",
      "[[ 0  0  0 ...  1 -1  0]\n",
      " [ 1  0  0 ... -1  0  0]\n",
      " [ 1  0  1 ... -1  0  0]\n",
      " ...\n",
      " [ 0  0  0 ...  0  0  0]\n",
      " [ 0  0  0 ...  0  0  0]\n",
      " [ 0  0  0 ...  0  0  0]]\n",
      "(10000,)\n"
     ]
    }
   ],
   "source": [
    "RawTarget = res_data_df['target'].values\n",
    "raw_data_df=res_data_df\n",
    "raw_data_df.drop(['target'],axis=1, inplace= True)\n",
    "RawData   = np.transpose(raw_data_df.values)\n",
    "print(res_data_df.values)\n",
    "print(RawData)\n",
    "print(RawTarget.shape)"
   ]
  },
  {
   "cell_type": "markdown",
   "metadata": {},
   "source": [
    "## Prepare Training Data"
   ]
  },
  {
   "cell_type": "code",
   "execution_count": 102,
   "metadata": {},
   "outputs": [
    {
     "name": "stdout",
     "output_type": "stream",
     "text": [
      "(8000,)\n",
      "(512, 8000)\n"
     ]
    }
   ],
   "source": [
    "TrainingTarget = np.array(GenerateTrainingTarget(RawTarget,TrainingPercent))\n",
    "TrainingData   = GenerateTrainingDataMatrix(RawData,TrainingPercent)\n",
    "print(TrainingTarget.shape)\n",
    "print(TrainingData.shape)"
   ]
  },
  {
   "cell_type": "markdown",
   "metadata": {},
   "source": [
    "## Prepare Validation Data"
   ]
  },
  {
   "cell_type": "code",
   "execution_count": 103,
   "metadata": {},
   "outputs": [
    {
     "name": "stdout",
     "output_type": "stream",
     "text": [
      "(999,)\n",
      "(512, 999)\n"
     ]
    }
   ],
   "source": [
    "ValDataAct = np.array(GenerateValTargetVector(RawTarget,ValidationPercent, (len(TrainingTarget))))\n",
    "ValData    = GenerateValData(RawData,ValidationPercent, (len(TrainingTarget)))\n",
    "print(ValDataAct.shape)\n",
    "print(ValData.shape)"
   ]
  },
  {
   "cell_type": "markdown",
   "metadata": {},
   "source": [
    "## Prepare Test Data"
   ]
  },
  {
   "cell_type": "code",
   "execution_count": 104,
   "metadata": {},
   "outputs": [
    {
     "name": "stdout",
     "output_type": "stream",
     "text": [
      "(999,)\n",
      "(512, 999)\n"
     ]
    }
   ],
   "source": [
    "TestDataAct = np.array(GenerateValTargetVector(RawTarget,TestPercent, (len(TrainingTarget)+len(ValDataAct))))\n",
    "TestData = GenerateValData(RawData,TestPercent, (len(TrainingTarget)+len(ValDataAct)))\n",
    "print(ValDataAct.shape)\n",
    "print(ValData.shape)"
   ]
  },
  {
   "cell_type": "markdown",
   "metadata": {},
   "source": [
    "## Closed Form Solution [Finding Weights using Moore- Penrose pseudo- Inverse Matrix]"
   ]
  },
  {
   "cell_type": "code",
   "execution_count": 105,
   "metadata": {},
   "outputs": [
    {
     "name": "stdout",
     "output_type": "stream",
     "text": [
      "(10000, 512)\n",
      "PHI shape (8000, 10)\n",
      "T shape (8000,)\n"
     ]
    }
   ],
   "source": [
    "ErmsArr = []\n",
    "AccuracyArr = []\n",
    "\n",
    "# Here we are using k means clustering algorithm to calculate the mean or centroid of M clusters\n",
    "kmeans = KMeans(n_clusters=M, random_state=0).fit(np.transpose(TrainingData))\n",
    "Mu = kmeans.cluster_centers_\n",
    "\n",
    "BigSigma     = GenerateBigSigma(RawData, Mu, TrainingPercent,IsSynthetic)\n",
    "TRAINING_PHI = GetPhiMatrix(RawData, Mu, BigSigma, TrainingPercent)\n",
    "W            = GetWeightsClosedForm(TRAINING_PHI,TrainingTarget,(C_Lambda)) \n",
    "TEST_PHI     = GetPhiMatrix(TestData, Mu, BigSigma, 100) \n",
    "VAL_PHI      = GetPhiMatrix(ValData, Mu, BigSigma, 100)"
   ]
  },
  {
   "cell_type": "markdown",
   "metadata": {},
   "source": [
    "## Finding Erms on training, validation and test set "
   ]
  },
  {
   "cell_type": "code",
   "execution_count": 106,
   "metadata": {},
   "outputs": [],
   "source": [
    "TR_TEST_OUT  = GetValTest(TRAINING_PHI,W)\n",
    "VAL_TEST_OUT = GetValTest(VAL_PHI,W)\n",
    "TEST_OUT     = GetValTest(TEST_PHI,W)\n",
    "\n",
    "TrainingAccuracy   = str(GetErms(TR_TEST_OUT,TrainingTarget))\n",
    "ValidationAccuracy = str(GetErms(VAL_TEST_OUT,ValDataAct))\n",
    "TestAccuracy       = str(GetErms(TEST_OUT,TestDataAct))"
   ]
  },
  {
   "cell_type": "code",
   "execution_count": 107,
   "metadata": {
    "scrolled": true
   },
   "outputs": [],
   "source": [
    "##print ('UBITname      = gagansun')\n",
    "##print ('Person Number = 50278729')\n",
    "##print ('----------------------------------------------------')\n",
    "##print (\"------------------LeToR Data------------------------\")\n",
    "##print ('----------------------------------------------------')\n",
    "##print (\"-------Closed Form with Radial Basis Function-------\")\n",
    "##print ('----------------------------------------------------')\n",
    "##print (\"M = \",M,\" \\nLambda = \",C_Lambda)\n",
    "##print (\"E_rms Training   = \" + str(float(TrainingAccuracy.split(',')[1])))\n",
    "##print (\"E_rms Training   = \" + str(TrainingAccuracy.split(',')))\n",
    "##print (\"E_rms Validation = \" + str(float(ValidationAccuracy.split(',')[1])))\n",
    "##print (\"E_rms Validation = \" + str(ValidationAccuracy.split(',')))\n",
    "##print (\"E_rms Testing    = \" + str(float(TestAccuracy.split(',')[1])))\n",
    "##print (\"E_rms Testing    = \" + str(TestAccuracy.split(',')))"
   ]
  },
  {
   "cell_type": "markdown",
   "metadata": {},
   "source": [
    "## Gradient Descent solution for Linear Regression"
   ]
  },
  {
   "cell_type": "code",
   "execution_count": 108,
   "metadata": {},
   "outputs": [
    {
     "name": "stdout",
     "output_type": "stream",
     "text": [
      "----------------------------------------------------\n",
      "--------------Please Wait for 2 mins!----------------\n",
      "----------------------------------------------------\n"
     ]
    }
   ],
   "source": [
    "print ('----------------------------------------------------')\n",
    "print ('--------------Please Wait for 2 mins!----------------')\n",
    "print ('----------------------------------------------------')"
   ]
  },
  {
   "cell_type": "code",
   "execution_count": 109,
   "metadata": {},
   "outputs": [],
   "source": [
    "def GradientDescent(Lambda,lRate):\n",
    "    W_Now        = np.dot(220, W)\n",
    "    La           = Lambda\n",
    "    learningRate = lRate\n",
    "    L_Erms_Val   = []\n",
    "    L_Erms_TR    = []\n",
    "    L_Erms_Test  = []\n",
    "    W_Mat        = []\n",
    "    print(\"Stochastic Gradient Descent started\")\n",
    "    for i in range(min(TrainingTarget.shape[0],2500)):\n",
    "        #print ('---------Iteration: ' + str(i) + '--------------')\n",
    "        Delta_E_D     = -np.dot((TrainingTarget[i] - np.dot(np.transpose(W_Now),TRAINING_PHI[i])),TRAINING_PHI[i])\n",
    "        La_Delta_E_W  = np.dot(La,W_Now)\n",
    "        Delta_E       = np.add(Delta_E_D,La_Delta_E_W)    \n",
    "        Delta_W       = -np.dot(learningRate,Delta_E) \n",
    "        W_T_Next      = W_Now + Delta_W # Here, New weights are calculated in each iteration\n",
    "        W_Now         = W_T_Next\n",
    "\n",
    "        #-----------------TrainingData Accuracy---------------------#\n",
    "        TR_TEST_OUT   = GetValTest(TRAINING_PHI,W_T_Next)\n",
    "        #print(TR_TEST_OUT)\n",
    "        Erms_TR       = GetErms(TR_TEST_OUT,TrainingTarget)\n",
    "        L_Erms_TR.append(Erms_TR.split(','))\n",
    "\n",
    "        #-----------------ValidationData Accuracy---------------------#\n",
    "        VAL_TEST_OUT  = GetValTest(VAL_PHI,W_T_Next) \n",
    "\n",
    "        Erms_Val      = GetErms(VAL_TEST_OUT,ValDataAct)\n",
    "        L_Erms_Val.append(Erms_Val.split(','))\n",
    "\n",
    "        #-----------------TestingData Accuracy---------------------#\n",
    "        TEST_OUT      = GetValTest(TEST_PHI,W_T_Next) \n",
    "\n",
    "        Erms_Test = GetErms(TEST_OUT,TestDataAct)\n",
    "        L_Erms_Test.append(Erms_Test.split(','))\n",
    "    return L_Erms_TR,L_Erms_Val,L_Erms_Test"
   ]
  },
  {
   "cell_type": "code",
   "execution_count": 120,
   "metadata": {},
   "outputs": [
    {
     "name": "stdout",
     "output_type": "stream",
     "text": [
      "Stochastic Gradient Descent started\n"
     ]
    }
   ],
   "source": [
    "\n",
    "L_Erms_TR,L_Erms_Val,L_Erms_Test=GradientDescent(Lambda=2,lRate=0.0009)"
   ]
  },
  {
   "cell_type": "code",
   "execution_count": 121,
   "metadata": {},
   "outputs": [
    {
     "name": "stdout",
     "output_type": "stream",
     "text": [
      "['50.65', '0.5714425736134602']\n",
      "['48.448448448448445', '0.57947036577364']\n",
      "['48.448448448448445', '0.57947036577364']\n"
     ]
    },
    {
     "data": {
      "text/plain": [
       "<matplotlib.axes._subplots.AxesSubplot at 0x2b100d04828>"
      ]
     },
     "execution_count": 121,
     "metadata": {},
     "output_type": "execute_result"
    },
    {
     "data": {
      "image/png": "[encoded data removed]",
      "text/plain": [
       "<Figure size 432x288 with 1 Axes>"
      ]
     },
     "metadata": {},
     "output_type": "display_data"
    },
    {
     "data": {
      "image/png": "[encoded data removed]",
      "text/plain": [
       "<Figure size 432x288 with 1 Axes>"
      ]
     },
     "metadata": {},
     "output_type": "display_data"
    }
   ],
   "source": [
    "\n",
    "\n",
    "Erms_TR=[]\n",
    "Erms_Val=[]\n",
    "Acc_TR=[]\n",
    "Erms_Test=[]\n",
    "\n",
    "Acc_Val=[]\n",
    "Acc_Test=[]\n",
    "for i in range(len(L_Erms_TR)):\n",
    "    Erms_TR.append(float(L_Erms_TR[i][1]))\n",
    "    Acc_TR.append(float(L_Erms_TR[i][0]))\n",
    "for i in range(len(L_Erms_Val)):\n",
    "    Erms_Val.append(float(L_Erms_Val[i][1]))\n",
    "    Acc_Val.append(float(L_Erms_Val[i][0]))\n",
    "for i in range(len(L_Erms_Test)):\n",
    "    Erms_Test.append(float(L_Erms_Test[i][1]))\n",
    "    Acc_Test.append(float(L_Erms_Val[i][0]))\n",
    "\n",
    "print(L_Erms_TR[-1])\n",
    "print(L_Erms_Val[-1])\n",
    "print(L_Erms_Val[-1])\n",
    "df_Erms=pd.DataFrame()\n",
    "df_Erms['erms_tr']=Erms_TR\n",
    "df_Erms['erms_val']=Erms_Val\n",
    "df_Erms['erms_test']=Erms_Test\n",
    "df_Erms.plot(grid=True)\n",
    "\n",
    "df_Acc=pd.DataFrame()\n",
    "df_Acc['acc_tr']=Acc_TR\n",
    "df_Acc['acc_val']=Acc_Val\n",
    "df_Acc['acc_test']=Acc_Test\n",
    "df_Acc.plot(grid=True)\n",
    "#print(C_Lambda)\n"
   ]
  },
  {
   "cell_type": "code",
   "execution_count": null,
   "metadata": {},
   "outputs": [],
   "source": []
  },
  {
   "cell_type": "markdown",
   "metadata": {},
   "source": [
    "# Logistic Regression"
   ]
  },
  {
   "cell_type": "code",
   "execution_count": 140,
   "metadata": {},
   "outputs": [],
   "source": [
    "def EvalSigmoid(Xi,W_log):\n",
    "    return (1.0/(1 + np.exp(-(np.dot(Xi,W_log)))))\n",
    "\n",
    "def TuneWeights():\n",
    "    eta=0.06\n",
    "    X=raw_data_df.values\n",
    "    #print(X.shape)\n",
    "    NO_OF_FEATURES=X.shape[1]\n",
    "    W_log = np.zeros((NO_OF_FEATURES,1))\n",
    "    A=np.around(EvalSigmoid(X,W_log))\n",
    "    #print(A)\n",
    "    #np.zeros((len(X),1))\n",
    "    for j in range(1):\n",
    "        for i in range(0,len(A)):\n",
    "            #print(W_log)\n",
    "            temp=(EvalSigmoid(X[i],W_log))\n",
    "            #print(\"temp=\",temp)\n",
    "            W_log=np.subtract(W_log,(eta*np.reshape((X[i]*(temp[0]-RawTarget[i])),(NO_OF_FEATURES,1))))\n",
    "            #print(temp)\n",
    "    return W_log"
   ]
  },
  {
   "cell_type": "markdown",
   "metadata": {},
   "source": []
  },
  {
   "cell_type": "code",
   "execution_count": 141,
   "metadata": {},
   "outputs": [
    {
     "name": "stdout",
     "output_type": "stream",
     "text": [
      "54.16,0.6156664943339379\n",
      "54.95495495495496,0.6064988533797337\n",
      "67.36736736736736,0.505193161516175\n"
     ]
    }
   ],
   "source": [
    "W_log=TuneWeights()\n",
    "#print(W_log.shape)\n",
    "#print(W_log)\n",
    "A_Train= EvalSigmoid((raw_data_df.values),W_log)\n",
    "A_Val=EvalSigmoid(np.transpose(ValData),W_log)\n",
    "A_Test=EvalSigmoid(np.transpose(TestData),W_log)\n",
    "Erms_Tr=GetErms(A_Train,np.transpose(RawTarget))\n",
    "Erms_Val=GetErms(A_Val,np.transpose(ValDataAct))\n",
    "Erms_Test=GetErms(A_Test,np.transpose(TestDataAct))\n",
    "print(Erms_Tr)\n",
    "print(Erms_Val)\n",
    "print(Erms_Test)"
   ]
  },
  {
   "cell_type": "code",
   "execution_count": null,
   "metadata": {},
   "outputs": [],
   "source": []
  },
  {
   "cell_type": "code",
   "execution_count": null,
   "metadata": {},
   "outputs": [],
   "source": []
  },
  {
   "cell_type": "code",
   "execution_count": null,
   "metadata": {},
   "outputs": [],
   "source": []
  },
  {
   "cell_type": "code",
   "execution_count": null,
   "metadata": {},
   "outputs": [],
   "source": []
  }
 ],
 "metadata": {
  "kernelspec": {
   "display_name": "Python 3",
   "language": "python",
   "name": "python3"
  },
  "language_info": {
   "codemirror_mode": {
    "name": "ipython",
    "version": 3
   },
   "file_extension": ".py",
   "mimetype": "text/x-python",
   "name": "python",
   "nbconvert_exporter": "python",
   "pygments_lexer": "ipython3",
   "version": "3.6.5"
  }
 },
 "nbformat": 4,
 "nbformat_minor": 2
}
