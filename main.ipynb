{
 "cells": [
  {
   "cell_type": "markdown",
   "metadata": {},
   "source": [
    "## Load MNIST on Python 3.x"
   ]
  },
  {
   "cell_type": "code",
   "execution_count": 2,
   "metadata": {},
   "outputs": [],
   "source": [
    "import pickle\n",
    "import gzip"
   ]
  },
  {
   "cell_type": "markdown",
   "metadata": {},
   "source": [
    "## Load USPS on Python 3.x"
   ]
  },
  {
   "cell_type": "code",
   "execution_count": 3,
   "metadata": {},
   "outputs": [],
   "source": [
    "from PIL import Image\n",
    "import os\n",
    "import numpy as np"
   ]
  },
  {
   "cell_type": "markdown",
   "metadata": {},
   "source": [
    "## MNIST Data PreProcessing"
   ]
  },
  {
   "cell_type": "code",
   "execution_count": 5,
   "metadata": {},
   "outputs": [],
   "source": [
    "filename = 'mnist.pkl.gz'\n",
    "f = gzip.open(filename, 'rb')\n",
    "training_data, validation_data, test_data = pickle.load(f, encoding='latin1')\n",
    "f.close()\n",
    "training_input= training_data[0]\n",
    "training_target= training_data[1]\n",
    "validation_input= validation_data[0]\n",
    "validation_target=validation_data[1]\n",
    "test_input= test_data[0]\n",
    "test_target= test_data[1]"
   ]
  },
  {
   "cell_type": "markdown",
   "metadata": {},
   "source": [
    "## USPS Data PreProcessing"
   ]
  },
  {
   "cell_type": "code",
   "execution_count": 6,
   "metadata": {},
   "outputs": [
    {
     "name": "stdout",
     "output_type": "stream",
     "text": [
      "All images loaded successfully\n"
     ]
    }
   ],
   "source": [
    "USPSMat  = []\n",
    "USPSTar  = []\n",
    "curPath  = 'USPSdata/Numerals'\n",
    "savedImg = []\n",
    "\n",
    "for j in range(0,10):\n",
    "    curFolderPath = curPath + '/' + str(j)\n",
    "    imgs =  os.listdir(curFolderPath)\n",
    "    for img in imgs:\n",
    "        curImg = curFolderPath + '/' + img\n",
    "        if curImg[-3:] == 'png':\n",
    "            img = Image.open(curImg,'r')\n",
    "            img = img.resize((28, 28))\n",
    "            savedImg = img\n",
    "            imgdata = (255-np.array(img.getdata()))/255\n",
    "            USPSMat.append(imgdata)\n",
    "            USPSTar.append(j)\n",
    "            \n",
    "print(\"All images loaded successfully\")"
   ]
  },
  {
   "cell_type": "markdown",
   "metadata": {},
   "source": [
    "## Confusion Matrix"
   ]
  },
  {
   "cell_type": "code",
   "execution_count": 45,
   "metadata": {},
   "outputs": [],
   "source": [
    "def CreateConfusionMatrix(predicted,actual):\n",
    "    confusion_matrix = np.zeros((10,10),dtype=int)\n",
    "    for i in range(len(predicted)):\n",
    "        confusion_matrix[int(predicted[i])][int(actual[i])] +=1\n",
    "    return confusion_matrix"
   ]
  },
  {
   "cell_type": "markdown",
   "metadata": {},
   "source": [
    "## Logistic Regression with Backpropagation"
   ]
  },
  {
   "cell_type": "code",
   "execution_count": 17,
   "metadata": {},
   "outputs": [],
   "source": [
    "#Function to compute Soft Max of the Activation A\n",
    "def SoftMax(target):\n",
    "    output = np.zeros(target.shape)\n",
    "    imax=len(target)\n",
    "    for i in range(imax):\n",
    "        den = float(np.sum(np.exp(target[i]))) #Computes Denominator of the Softmax function for one target example\n",
    "        for j in range(10):\n",
    "            output[i][j] = np.exp(target[i][j])/den # Computes probability for each class p(C/X)\n",
    "    return output\n",
    "\n",
    "# Function to convert target values to one-hot encoded representation\n",
    "def OneHotEncoder(target):\n",
    "    one_hot_target=np.zeros((len(target),10),dtype=int)\n",
    "    for i in range(len(target)):\n",
    "        #Below statement assigns 1 to the position depending on the value in the target value\n",
    "        one_hot_target[i][target[i]]=1\n",
    "    return one_hot_target\n",
    "\n",
    "# Funct\n",
    "def ComputeWeights(inp, one_hot_target):\n",
    "    W = np.zeros((inp.shape[1],10)) # Initialize weights to zeros\n",
    "    B= 50\n",
    "    inp_transpose=inp.transpose()\n",
    "    eta=2\n",
    "    tmpli=[]\n",
    "    for i in range(0,500):\n",
    "        A = np.add(np.dot(inp,W),B)\n",
    "        Y = SoftMax(A)\n",
    "        YminusT=np.add(Y,-1*one_hot_target)\n",
    "        Error_fn_Gradient= 1*np.dot(inp_transpose,YminusT)\n",
    "        W = W - (1/inp.shape[0]) * (eta *Error_fn_Gradient)\n",
    "        print(i,end=\",\")\n",
    "        \n",
    "        \n",
    "        \n",
    "        tmpli.append([i,TestLogistic(inp,W)])\n",
    "        \n",
    "    return W,tmpli\n",
    "def TestAccuracy(predicted,actual):\n",
    "    return str((sum(predicted==actual)/len(actual))*100)+\"%\"\n",
    "def AddBias(input_features):\n",
    "    return np.insert(input_features,0,1,axis=1)"
   ]
  },
  {
   "cell_type": "code",
   "execution_count": 39,
   "metadata": {},
   "outputs": [],
   "source": [
    "def TrainLogistic(training_input, training_target):\n",
    "    one_hot_target=OneHotEncoder(training_target) # Compute One Hot Target Matrix\n",
    "    input_with_bias = AddBias(training_input) # Add bias to the input\n",
    "    W = ComputeWeights(input_with_bias, one_hot_target)\n",
    "    return W\n",
    "\n",
    "def TestLogistic(input_features,W):\n",
    "    input_with_bias = AddBias(input_features)\n",
    "    A = np.add(np.dot(input_with_bias,W),0)\n",
    "    Y = SoftMax(A)\n",
    "    prediction = np.argmax(Y, axis=1)\n",
    "    return prediction"
   ]
  },
  {
   "cell_type": "code",
   "execution_count": 21,
   "metadata": {},
   "outputs": [
    {
     "name": "stdout",
     "output_type": "stream",
     "text": [
      "0,1,2,3,4,5,6,7,8,9,10,11,12,13,14,15,16,17,18,19,20,21,22,23,24,25,26,27,28,29,30,31,32,33,34,35,36,37,38,39,40,41,42,43,44,45,46,47,48,49,50,51,52,53,54,55,56,57,58,59,60,61,62,63,64,65,66,67,68,69,70,71,72,73,74,75,76,77,78,79,80,81,82,83,84,85,86,87,88,89,90,91,92,93,94,95,96,97,98,99,100,101,102,103,104,105,106,107,108,109,110,111,112,113,114,115,116,117,118,119,120,121,122,123,124,125,126,127,128,129,130,131,132,133,134,135,136,137,138,139,140,141,142,143,144,145,146,147,148,149,150,151,152,153,154,155,156,157,158,159,160,161,162,163,164,165,166,167,168,169,170,171,172,173,174,175,176,177,178,179,180,181,182,183,184,185,186,187,188,189,190,191,192,193,194,195,196,197,198,199,200,201,202,203,204,205,206,207,208,209,210,211,212,213,214,215,216,217,218,219,220,221,222,223,224,225,226,227,228,229,230,231,232,233,234,235,236,237,238,239,240,241,242,243,244,245,246,247,248,249,250,251,252,253,254,255,256,257,258,259,260,261,262,263,264,265,266,267,268,269,270,271,272,273,274,275,276,277,278,279,280,281,282,283,284,285,286,287,288,289,290,291,292,293,294,295,296,297,298,299,300,301,302,303,304,305,306,307,308,309,310,311,312,313,314,315,316,317,318,319,320,321,322,323,324,325,326,327,328,329,330,331,332,333,334,335,336,337,338,339,340,341,342,343,344,345,346,347,348,349,350,351,352,353,354,355,356,357,358,359,360,361,362,363,364,365,366,367,368,369,370,371,372,373,374,375,376,377,378,379,380,381,382,383,384,385,386,387,388,389,390,391,392,393,394,395,396,397,398,399,400,401,402,403,404,405,406,407,408,409,410,411,412,413,414,415,416,417,418,419,420,421,422,423,424,425,426,427,428,429,430,431,432,433,434,435,436,437,438,439,440,441,442,443,444,445,446,447,448,449,450,451,452,453,454,455,456,457,458,459,460,461,462,463,464,465,466,467,468,469,470,471,472,473,474,475,476,477,478,479,480,481,482,483,484,485,486,487,488,489,490,491,492,493,494,495,496,497,498,499,"
     ]
    }
   ],
   "source": [
    "W,tmpli = TrainLogistic(training_input, training_target)"
   ]
  },
  {
   "cell_type": "code",
   "execution_count": 27,
   "metadata": {},
   "outputs": [],
   "source": [
    "#print(tmpli)\n",
    "tmpout = []\n",
    "for i in range(len(tmpli)):\n",
    "    tmpout.append([tmpli[i][0], TestAccuracy(tmpli[i][1],training_target)])"
   ]
  },
  {
   "cell_type": "code",
   "execution_count": 37,
   "metadata": {},
   "outputs": [
    {
     "data": {
      "text/plain": [
       "<matplotlib.axes._subplots.AxesSubplot at 0x1cd81b60630>"
      ]
     },
     "execution_count": 37,
     "metadata": {},
     "output_type": "execute_result"
    },
    {
     "data": {
      "image/png": "[encoded data removed]",
      "text/plain": [
       "<Figure size 432x288 with 1 Axes>"
      ]
     },
     "metadata": {},
     "output_type": "display_data"
    }
   ],
   "source": [
    "import pandas as pd\n",
    "import matplotlib.pyplot as plt\n",
    "df = pd.DataFrame(tmpout, columns=['Epochs','Accuracy(%)'])\n",
    "#print(df1)\n",
    "df.plot(grid=True,x='Epochs',y='Accuracy(%)')\n"
   ]
  },
  {
   "cell_type": "markdown",
   "metadata": {},
   "source": [
    "#### Testing MNIST Data"
   ]
  },
  {
   "cell_type": "code",
   "execution_count": 40,
   "metadata": {},
   "outputs": [
    {
     "name": "stdout",
     "output_type": "stream",
     "text": [
      "Accuracy for MNIST Data\n",
      "Accuracy Training Data :  92.29\n",
      "Accuracy Validation Data :  92.47\n",
      "Accuracy Testing Data :  92.06\n"
     ]
    }
   ],
   "source": [
    "predicted_MNIST_train = TestLogistic(training_input,W)\n",
    "predicted_MNIST_valid = TestLogistic(validation_input,W)\n",
    "predicted_MNIST_test = TestLogistic(test_input,W)\n",
    "Accuracy_MNIST_train = TestAccuracy(predicted_MNIST_train, training_target)\n",
    "Accuracy_MNIST_valid = TestAccuracy(predicted_MNIST_valid, validation_target)\n",
    "Accuracy_MNIST_test = TestAccuracy(predicted_MNIST_test, test_target)\n",
    "print(\"Accuracy for MNIST Data\")\n",
    "print(\"Accuracy Training Data : \", Accuracy_MNIST_train)\n",
    "print(\"Accuracy Validation Data : \", Accuracy_MNIST_valid)\n",
    "print(\"Accuracy Testing Data : \", Accuracy_MNIST_test)"
   ]
  },
  {
   "cell_type": "markdown",
   "metadata": {},
   "source": [
    "#### Testing USPS data"
   ]
  },
  {
   "cell_type": "code",
   "execution_count": 41,
   "metadata": {},
   "outputs": [
    {
     "name": "stdout",
     "output_type": "stream",
     "text": [
      "Accuracy USPS :  34.28171408570429\n"
     ]
    }
   ],
   "source": [
    "predicted_USPS= TestLogistic(USPSMat,W)\n",
    "Accuracy_USPS = TestAccuracy(predicted_USPS,USPSTar)\n",
    "print(\"Accuracy USPS : \", Accuracy_USPS)"
   ]
  },
  {
   "cell_type": "markdown",
   "metadata": {},
   "source": [
    "#### Printing Confusion Matrix for MNIST and USPS"
   ]
  },
  {
   "cell_type": "code",
   "execution_count": 60,
   "metadata": {},
   "outputs": [
    {
     "name": "stdout",
     "output_type": "stream",
     "text": [
      "       CONFUSION MATRIX for MNIST Test Data\n",
      "              Logistic Regression\n",
      "           Rows    -----> Predicted Values\n",
      "           Columns -----> Actual Values\n",
      "[[ 957    0    6    2    1    9   11    3    6   11]\n",
      " [   0 1110    8    0    3    3    3    7    6    6]\n",
      " [   3    3  924   23    5    5    6   22    7    2]\n",
      " [   1    2   14  914    1   34    1    9   27   11]\n",
      " [   0    0   10    0  910    9   10    6   10   33]\n",
      " [   5    2    5   31    0  771   12    1   27    9]\n",
      " [  10    4   11    2   11   18  911    0   11    0]\n",
      " [   1    2   11   11    3    8    2  949   12   29]\n",
      " [   3   12   34   17    7   28    2    1  859    7]\n",
      " [   0    0    9   10   41    7    0   30    9  901]]\n"
     ]
    }
   ],
   "source": [
    "print(\"       CONFUSION MATRIX for MNIST Test Data\")\n",
    "print(\"              Logistic Regression\")\n",
    "print(\"           Rows    -----> Predicted Values\")\n",
    "print(\"           Columns -----> Actual Values\")\n",
    "print(CreateConfusionMatrix(predicted_MNIST_test,test_target))"
   ]
  },
  {
   "cell_type": "code",
   "execution_count": 64,
   "metadata": {},
   "outputs": [
    {
     "name": "stdout",
     "output_type": "stream",
     "text": [
      "          CONFUSION MATRIX for USPS Data\n",
      "                Logistic Regression\n",
      "           Rows    -----> Predicted Values\n",
      "           Columns -----> Actual Values\n",
      "[[ 490   71   93   49   41   73  130  108  159   19]\n",
      " [   1  325   12    3   43   11    6  130   18   72]\n",
      " [ 221  259 1296  215   53  226  567  192  158  120]\n",
      " [  93  190  127 1056   38  158   74  556  314  521]\n",
      " [ 143  188   29    7  858   23   56   51   84  107]\n",
      " [ 365  208  265  533  226 1329  488  257  793  127]\n",
      " [  58   14   51    6   29   54  597    8  105   14]\n",
      " [ 169  597   59   72  332   71   19  472   79  538]\n",
      " [ 103  116   37   31  205   39   15  159  226  275]\n",
      " [ 357   32   30   28  175   16   48   67   64  207]]\n"
     ]
    }
   ],
   "source": [
    "print(\"          CONFUSION MATRIX for USPS Data\")\n",
    "print(\"                Logistic Regression\")\n",
    "print(\"           Rows    -----> Predicted Values\")\n",
    "print(\"           Columns -----> Actual Values\")\n",
    "print(CreateConfusionMatrix(predicted_USPS,USPSTar))"
   ]
  },
  {
   "cell_type": "markdown",
   "metadata": {},
   "source": [
    "## MNIST Neural Network"
   ]
  },
  {
   "cell_type": "code",
   "execution_count": 89,
   "metadata": {},
   "outputs": [],
   "source": [
    "import keras\n",
    "from keras.datasets import mnist\n",
    "from keras.layers import Dense\n",
    "from keras.models import Sequential\n",
    "import pandas as pd\n",
    "num_classes=10\n",
    "image_vector_size=28*28\n",
    "x_train = np.concatenate((training_input, validation_input),axis=0)\n",
    "y_train = OneHotEncoder(np.concatenate((training_target, validation_target),axis=0))\n",
    "x_test = test_input\n",
    "y_test = OneHotEncoder(test_target)\n",
    "image_size = 784\n",
    "model = Sequential()\n",
    "model.add(Dense(units=32, activation='sigmoid', input_shape=(image_size,)))\n",
    "model.add(Dense(units=num_classes, activation='softmax'))\n",
    "model.compile(optimizer='sgd', loss='categorical_crossentropy',metrics=['accuracy'])\n",
    "history = model.fit(x_train, y_train, batch_size=128, epochs=500, verbose=False,validation_split=0.1)"
   ]
  },
  {
   "cell_type": "code",
   "execution_count": 90,
   "metadata": {},
   "outputs": [
    {
     "name": "stdout",
     "output_type": "stream",
     "text": [
      "Accuracy of Neural Network Implementation\n",
      "Accuracy MNIST Test Data :  0.9553\n",
      "Accuracy USPS Data :  0.40107005349820457\n"
     ]
    }
   ],
   "source": [
    "print(\"Accuracy of Neural Network Implementation\")\n",
    "loss_mnist_test,accuracy_mnist_test = model.evaluate(x_test, y_test, verbose=False) \n",
    "loss_usps_test,accuracy_usps_test = model.evaluate(np.array(USPSMat), OneHotEncoder(USPSTar), verbose=False)\n"
   ]
  },
  {
   "cell_type": "code",
   "execution_count": 106,
   "metadata": {},
   "outputs": [
    {
     "name": "stdout",
     "output_type": "stream",
     "text": [
      "Accuracy MNIST Test Data :  0.9553\n",
      "Accuracy USPS Data :  0.40107005349820457\n",
      "(array([7, 2, 1, ..., 4, 5, 6], dtype=int64), array([5, 5, 5, ..., 9, 3, 3], dtype=int64))\n"
     ]
    }
   ],
   "source": [
    "predicted_mnist_test = np.argmax(model.predict(x_test), axis=1) \n",
    "\n",
    "predicted_usps_test = np.argmax(model.predict(np.array(USPSMat)), axis=1)\n",
    "print(\"Accuracy MNIST Test Data : \", accuracy_mnist_test)\n",
    "print(\"Accuracy USPS Data : \", accuracy_usps_test)"
   ]
  },
  {
   "cell_type": "code",
   "execution_count": 111,
   "metadata": {},
   "outputs": [
    {
     "name": "stdout",
     "output_type": "stream",
     "text": [
      "       CONFUSION MATRIX for MNIST Test Data\n",
      "              Neural Network\n",
      "           Rows    -----> Predicted Values\n",
      "           Columns -----> Actual Values\n",
      "[[ 962    0    7    2    1    7    9    1    9    7]\n",
      " [   0 1120    2    1    0    2    2    7    2    6]\n",
      " [   1    3  989   11    5    2    2   14    1    0]\n",
      " [   1    1    5  955    0   22    2    7   16   11]\n",
      " [   0    1    6    0  939    3    6    4    3   18]\n",
      " [   3    1    3   15    2  824    7    0    9    7]\n",
      " [   6    3    6    1    6   13  922    0    6    2]\n",
      " [   5    2    6   12    4    2    2  979    6   11]\n",
      " [   2    4    6   11    3   16    6    2  919    3]\n",
      " [   0    0    2    2   22    1    0   14    3  944]]\n"
     ]
    }
   ],
   "source": [
    "print(\"       CONFUSION MATRIX for MNIST Test Data\")\n",
    "print(\"              Neural Network\")\n",
    "print(\"           Rows    -----> Predicted Values\")\n",
    "print(\"           Columns -----> Actual Values\")\n",
    "print(CreateConfusionMatrix(predicted_mnist_test,np.argmax(y_test,axis=1)))"
   ]
  },
  {
   "cell_type": "code",
   "execution_count": 108,
   "metadata": {},
   "outputs": [
    {
     "name": "stdout",
     "output_type": "stream",
     "text": [
      "          CONFUSION MATRIX for USPS Data\n",
      "                Neural Network\n",
      "           Rows    -----> Predicted Values\n",
      "           Columns -----> Actual Values\n",
      "[[ 477   61  116   51   17   82  189   37  124   11]\n",
      " [   0  280    8    0   10    4    6   83    5   24]\n",
      " [ 154  301 1374  124   43  198  489  163  122   85]\n",
      " [ 114  107  159 1380   53  181   77  637  371  429]\n",
      " [ 174  188   38    1  953   16   55   24   75   87]\n",
      " [ 204  154  137  315  164 1296  263  201  595   74]\n",
      " [  53   32   48    3   25   43  799    5   78    8]\n",
      " [ 180  691   46   48  385   76   30  684   74  666]\n",
      " [ 166  102   58   62  191   90   44  131  499  337]\n",
      " [ 478   84   15   16  159   14   48   35   57  279]]\n"
     ]
    }
   ],
   "source": [
    "print(\"          CONFUSION MATRIX for USPS Data\")\n",
    "print(\"                Neural Network\")\n",
    "print(\"           Rows    -----> Predicted Values\")\n",
    "print(\"           Columns -----> Actual Values\")\n",
    "print(CreateConfusionMatrix(predicted_usps_test,USPSTar))"
   ]
  },
  {
   "cell_type": "code",
   "execution_count": 109,
   "metadata": {},
   "outputs": [
    {
     "name": "stdout",
     "output_type": "stream",
     "text": [
      "[[0 0 0 ... 1 0 0]\n",
      " [0 0 1 ... 0 0 0]\n",
      " [0 1 0 ... 0 0 0]\n",
      " ...\n",
      " [0 0 0 ... 0 0 0]\n",
      " [0 0 0 ... 0 0 0]\n",
      " [0 0 0 ... 0 0 0]]\n"
     ]
    }
   ],
   "source": [
    "\n",
    "print(y_test)"
   ]
  },
  {
   "cell_type": "markdown",
   "metadata": {},
   "source": [
    "## Support Vector Machines"
   ]
  },
  {
   "cell_type": "code",
   "execution_count": 75,
   "metadata": {},
   "outputs": [],
   "source": [
    "import numpy as np\n",
    "from sklearn.svm import SVC\n",
    "from sklearn.ensemble import RandomForestClassifier\n",
    "from sklearn.datasets import fetch_mldata\n",
    "X_train = np.concatenate((training_data[0],validation_data[0]),axis=0)\n",
    "y_train = np.concatenate((training_data[1],validation_data[1]),axis=0)\n",
    "X_test, y_test = test_data[0], test_data[1]"
   ]
  },
  {
   "cell_type": "code",
   "execution_count": 76,
   "metadata": {},
   "outputs": [
    {
     "data": {
      "text/plain": [
       "SVC(C=2, cache_size=200, class_weight=None, coef0=0.0,\n",
       "  decision_function_shape='ovr', degree=3, gamma=0.05, kernel='linear',\n",
       "  max_iter=-1, probability=False, random_state=None, shrinking=True,\n",
       "  tol=0.001, verbose=False)"
      ]
     },
     "execution_count": 76,
     "metadata": {},
     "output_type": "execute_result"
    }
   ],
   "source": [
    "classifier1 = SVC(kernel='linear', C=2, gamma = 0.05);\n",
    "classifier1.fit(X_train, y_train)"
   ]
  },
  {
   "cell_type": "code",
   "execution_count": 77,
   "metadata": {},
   "outputs": [
    {
     "name": "stdout",
     "output_type": "stream",
     "text": [
      "Accuracy MNIST Test :  93.81\n"
     ]
    }
   ],
   "source": [
    "#Testing on MNIST Test data\n",
    "predicted_svm_mnist = classifier1.predict(X_test)\n",
    "Accuracy_svm_mnist = TestAccuracy(predicted_svm_mnist,y_test)\n",
    "print(\"Accuracy MNIST Test : \",Accuracy_svm_mnist)"
   ]
  },
  {
   "cell_type": "code",
   "execution_count": 78,
   "metadata": {},
   "outputs": [
    {
     "name": "stdout",
     "output_type": "stream",
     "text": [
      "Accuracy USPS :  28.451422571128553\n"
     ]
    }
   ],
   "source": [
    "#Testing on USPS data\n",
    "predicted_svm_usps = classifier1.predict(USPSMat)\n",
    "Accuracy_svm_usps = TestAccuracy(predicted_svm_usps,USPSTar)\n",
    "print(\"Accuracy USPS : \",Accuracy_svm_usps)"
   ]
  },
  {
   "cell_type": "code",
   "execution_count": 80,
   "metadata": {},
   "outputs": [
    {
     "name": "stdout",
     "output_type": "stream",
     "text": [
      "       CONFUSION MATRIX for MNIST Test Data\n",
      "              SVM\n",
      "           Rows    -----> Predicted Values\n",
      "           Columns -----> Actual Values\n",
      "[[ 956    0    5    4    1   11    6    2    8    7]\n",
      " [   0 1117    7    0    1    5    3    8    5    7]\n",
      " [   4    5  969   15    9    5   14   21    6    3]\n",
      " [   1    3   11  950    0   37    2   12   28   13]\n",
      " [   1    0    2    1  943    6    6    7    7   32]\n",
      " [   8    1    4   19    2  794   18    2   26    5]\n",
      " [   7    2    7    1    5   12  906    0    8    1]\n",
      " [   1    1    9    7    1    2    1  956    6   18]\n",
      " [   0    6   16   11    2   15    2    2  872    5]\n",
      " [   2    0    2    2   18    5    0   18    8  918]]\n"
     ]
    }
   ],
   "source": [
    "print(\"       CONFUSION MATRIX for MNIST Test Data\")\n",
    "print(\"              SVM\")\n",
    "print(\"           Rows    -----> Predicted Values\")\n",
    "print(\"           Columns -----> Actual Values\")\n",
    "print(CreateConfusionMatrix(predicted_svm_mnist,y_test))"
   ]
  },
  {
   "cell_type": "code",
   "execution_count": 81,
   "metadata": {},
   "outputs": [
    {
     "name": "stdout",
     "output_type": "stream",
     "text": [
      "          CONFUSION MATRIX for USPS Data\n",
      "                SVM\n",
      "           Rows    -----> Predicted Values\n",
      "           Columns -----> Actual Values\n",
      "[[ 360   46  118   50   23   37  144   27  115   11]\n",
      " [   1  294   70   60   23   17   20   75   14   31]\n",
      " [ 528  560 1269  390  249  699  853  218  360  212]\n",
      " [ 168  205  104  795   98  218   63  639  466  608]\n",
      " [ 156  253   35    9  765   29   68   49   90  122]\n",
      " [ 321  204  261  588  216  892  338  274  655  100]\n",
      " [  77   20   67    8   19   30  443   11   65    4]\n",
      " [ 194  358   40   53  456   32   32  575   65  606]\n",
      " [   8   44   22   34   87   33    2  102  142  151]\n",
      " [ 187   16   13   13   64   13   37   30   28  155]]\n"
     ]
    }
   ],
   "source": [
    "print(\"          CONFUSION MATRIX for USPS Data\")\n",
    "print(\"                SVM\")\n",
    "print(\"           Rows    -----> Predicted Values\")\n",
    "print(\"           Columns -----> Actual Values\")\n",
    "print(CreateConfusionMatrix(predicted_svm_usps,USPSTar))"
   ]
  },
  {
   "cell_type": "markdown",
   "metadata": {},
   "source": [
    "## RandomForest "
   ]
  },
  {
   "cell_type": "code",
   "execution_count": 71,
   "metadata": {},
   "outputs": [
    {
     "data": {
      "text/plain": [
       "RandomForestClassifier(bootstrap=True, class_weight=None, criterion='gini',\n",
       "            max_depth=None, max_features='auto', max_leaf_nodes=None,\n",
       "            min_impurity_decrease=0.0, min_impurity_split=None,\n",
       "            min_samples_leaf=1, min_samples_split=2,\n",
       "            min_weight_fraction_leaf=0.0, n_estimators=100, n_jobs=1,\n",
       "            oob_score=False, random_state=None, verbose=0,\n",
       "            warm_start=False)"
      ]
     },
     "execution_count": 71,
     "metadata": {},
     "output_type": "execute_result"
    }
   ],
   "source": [
    "classifier2 = RandomForestClassifier(n_estimators=100);\n",
    "classifier2.fit(X_train, y_train) "
   ]
  },
  {
   "cell_type": "code",
   "execution_count": 72,
   "metadata": {},
   "outputs": [
    {
     "name": "stdout",
     "output_type": "stream",
     "text": [
      "Accuracy for Random Forest\n",
      "Accuracy for MNIST Test Data :  96.89\n",
      "Accuracy for USPS Data :  39.91699584979249\n"
     ]
    }
   ],
   "source": [
    "print(\"Accuracy for Random Forest\")\n",
    "y_predicted_rf_mnist = classifier2.predict(X_test)\n",
    "Accuracy_MNIST_test=TestAccuracy(y_predicted_rf_mnist,y_test)\n",
    "y_predicted_rf_usps = classifier2.predict(USPSMat)\n",
    "Accuracy_USPS=TestAccuracy(y_predicted_rf_usps,USPSTar)\n",
    "print(\"Accuracy for MNIST Test Data : \",Accuracy_MNIST_test)\n",
    "print(\"Accuracy for USPS Data : \",Accuracy_USPS)"
   ]
  },
  {
   "cell_type": "code",
   "execution_count": 73,
   "metadata": {},
   "outputs": [
    {
     "name": "stdout",
     "output_type": "stream",
     "text": [
      "       CONFUSION MATRIX for MNIST Test Data\n",
      "              Random Forest\n",
      "           Rows    -----> Predicted Values\n",
      "           Columns -----> Actual Values\n",
      "[[ 971    0    6    0    1    2    7    2    3    5]\n",
      " [   0 1123    0    0    0    2    3    2    0    5]\n",
      " [   1    3  999   11    1    1    1   21    6    2]\n",
      " [   0    3    5  974    0   12    0    1   13   10]\n",
      " [   0    0    3    0  957    3    5    1    3   10]\n",
      " [   1    2    0    7    0  855    3    0    7    5]\n",
      " [   4    2    4    0    4    5  935    0    3    1]\n",
      " [   1    0    9    8    1    2    0  991    3    7]\n",
      " [   2    1    6    7    3    7    4    2  926    6]\n",
      " [   0    1    0    3   15    3    0    8   10  958]]\n"
     ]
    }
   ],
   "source": [
    "print(\"       CONFUSION MATRIX for MNIST Test Data\")\n",
    "print(\"              Random Forest\")\n",
    "print(\"           Rows    -----> Predicted Values\")\n",
    "print(\"           Columns -----> Actual Values\")\n",
    "print(CreateConfusionMatrix(y_predicted_rf_mnist,y_test))"
   ]
  },
  {
   "cell_type": "code",
   "execution_count": 74,
   "metadata": {},
   "outputs": [
    {
     "name": "stdout",
     "output_type": "stream",
     "text": [
      "          CONFUSION MATRIX for USPS Data\n",
      "                Random Forest\n",
      "           Rows    -----> Predicted Values\n",
      "           Columns -----> Actual Values\n",
      "[[ 631   49   83   39   12  132  293   42   54   20]\n",
      " [  13  579   24    4  202   30   48  342   55  273]\n",
      " [ 282  145 1296  113   67  149  251  418  173  251]\n",
      " [  51   94   86 1234   32   88   35  233  218  282]\n",
      " [ 457   60   50   52 1091   33   86   40  100  252]\n",
      " [ 134   87  184  374  147 1404  346  191 1037  132]\n",
      " [  84   24   22    3   21   37  807   35   67   16]\n",
      " [ 115  946  241  158  381  110  113  685  106  592]\n",
      " [   1   13    8    6   32    8    9    3  160   86]\n",
      " [ 232    3    5   17   15    9   12   11   30   96]]\n"
     ]
    }
   ],
   "source": [
    "print(\"          CONFUSION MATRIX for USPS Data\")\n",
    "print(\"                Random Forest\")\n",
    "print(\"           Rows    -----> Predicted Values\")\n",
    "print(\"           Columns -----> Actual Values\")\n",
    "print(CreateConfusionMatrix(y_predicted_rf_usps,USPSTar))"
   ]
  },
  {
   "cell_type": "code",
   "execution_count": null,
   "metadata": {},
   "outputs": [],
   "source": []
  },
  {
   "cell_type": "code",
   "execution_count": 135,
   "metadata": {},
   "outputs": [],
   "source": [
    "def Ensemble(predicted_log, predicted_nn, predicted_svm, predicted_rf):\n",
    "    num_of_rows = predicted_log.shape[0]\n",
    "    ensemble_input = np.concatenate((predicted_log.reshape(num_of_rows,1), predicted_nn.reshape(num_of_rows,1), predicted_svm.reshape(num_of_rows,1), predicted_rf.reshape(num_of_rows,1)),axis=1)\n",
    "    ensemble_output= []\n",
    "    for i in range(len(ensemble_input)):\n",
    "        bin_count = np.bincount(ensemble_input[i])\n",
    "        ensemble_output.append(np.argmax(bin_count))\n",
    "    return ensemble_output"
   ]
  },
  {
   "cell_type": "code",
   "execution_count": 140,
   "metadata": {},
   "outputs": [
    {
     "name": "stdout",
     "output_type": "stream",
     "text": [
      "Accuracy for Ensemble of All Classifiers\n",
      "Accuracy for MNIST Test Data :  95.45\n",
      "Accuracy for USPS Data :  37.5918795939797\n"
     ]
    }
   ],
   "source": [
    "ensemble_output_mnist_test = Ensemble(predicted_MNIST_test, predicted_mnist_test,predicted_svm_mnist,y_predicted_rf_mnist)\n",
    "ensemble_output_usps = Ensemble(predicted_USPS, predicted_usps_test,predicted_svm_usps,y_predicted_rf_usps)\n",
    "accuracy_mnist_test = TestAccuracy(ensemble_output_mnist_test, test_target)\n",
    "accuracy_usps = TestAccuracy(ensemble_output_usps, np.array(USPSTar))\n",
    "print(\"Accuracy for Ensemble of All Classifiers\")\n",
    "print(\"Accuracy for MNIST Test Data : \", accuracy_mnist_test)\n",
    "print(\"Accuracy for USPS Data : \", accuracy_usps)"
   ]
  },
  {
   "cell_type": "code",
   "execution_count": 144,
   "metadata": {},
   "outputs": [
    {
     "name": "stdout",
     "output_type": "stream",
     "text": [
      "       CONFUSION MATRIX for MNIST Test Data\n",
      "              Ensemble\n",
      "           Rows    -----> Predicted Values\n",
      "           Columns -----> Actual Values\n",
      "[[ 970    0    8    2    1    8    8    2    6    9]\n",
      " [   0 1124    3    0    0    3    3    6    2    6]\n",
      " [   1    2  990   17    5    1    7   22    4    2]\n",
      " [   1    2    5  963    0   29    1    7   22   14]\n",
      " [   0    0    4    0  955    6    7    3    5   25]\n",
      " [   2    1    1   11    0  822   11    1   17    5]\n",
      " [   4    2    4    0    3   10  917    0    8    0]\n",
      " [   1    1    9    9    0    1    2  975    7   16]\n",
      " [   1    3    7    7    3   10    2    1  899    2]\n",
      " [   0    0    1    1   15    2    0   11    4  930]]\n"
     ]
    }
   ],
   "source": [
    "print(\"       CONFUSION MATRIX for MNIST Test Data\")\n",
    "print(\"              Ensemble\")\n",
    "print(\"           Rows    -----> Predicted Values\")\n",
    "print(\"           Columns -----> Actual Values\")\n",
    "print(CreateConfusionMatrix(ensemble_output_mnist_test,test_target))"
   ]
  },
  {
   "cell_type": "code",
   "execution_count": 145,
   "metadata": {},
   "outputs": [
    {
     "name": "stdout",
     "output_type": "stream",
     "text": [
      "          CONFUSION MATRIX for USPS Data\n",
      "                Ensemble\n",
      "           Rows    -----> Predicted Values\n",
      "           Columns -----> Actual Values\n",
      "[[ 567   71  117   51   23   86  203   59  143   17]\n",
      " [   4  389   20    8   60   11   13  161   21   92]\n",
      " [ 323  312 1437  233  102  292  618  242  208  169]\n",
      " [ 100  163  106 1244   46  171   68  584  380  515]\n",
      " [ 223  181   28    2 1004   17   58   34   76  109]\n",
      " [ 233  177  169  382  197 1302  344  233  788   99]\n",
      " [  45   18   34    2   14   28  629    6   59    8]\n",
      " [ 142  627   57   44  334   58   27  564   72  594]\n",
      " [  49   48   18   26  131   25    7   94  220  235]\n",
      " [ 314   14   13    8   89   10   33   23   33  162]]\n"
     ]
    }
   ],
   "source": [
    "print(\"          CONFUSION MATRIX for USPS Data\")\n",
    "print(\"                Ensemble\")\n",
    "print(\"           Rows    -----> Predicted Values\")\n",
    "print(\"           Columns -----> Actual Values\")\n",
    "print(CreateConfusionMatrix(ensemble_output_usps,USPSTar))"
   ]
  },
  {
   "cell_type": "code",
   "execution_count": null,
   "metadata": {},
   "outputs": [],
   "source": []
  }
 ],
 "metadata": {
  "kernelspec": {
   "display_name": "Python 3",
   "language": "python",
   "name": "python3"
  },
  "language_info": {
   "codemirror_mode": {
    "name": "ipython",
    "version": 3
   },
   "file_extension": ".py",
   "mimetype": "text/x-python",
   "name": "python",
   "nbconvert_exporter": "python",
   "pygments_lexer": "ipython3",
   "version": "3.6.5"
  }
 },
 "nbformat": 4,
 "nbformat_minor": 2
}
